{
 "cells": [
  {
   "cell_type": "markdown",
   "id": "916c629f",
   "metadata": {},
   "source": [
    "# 1. インストールとインポート"
   ]
  },
  {
   "cell_type": "code",
   "execution_count": 13,
   "id": "745fb8ae",
   "metadata": {
    "ExecuteTime": {
     "end_time": "2023-05-07T04:21:44.958178Z",
     "start_time": "2023-05-07T04:21:44.948174Z"
    }
   },
   "outputs": [],
   "source": [
    "!pip install numpy"
   ]
  },
  {
   "cell_type": "code",
   "execution_count": 2,
   "id": "1e37949f",
   "metadata": {
    "ExecuteTime": {
     "end_time": "2023-05-07T04:21:31.300851Z",
     "start_time": "2023-05-07T04:21:31.040942Z"
    }
   },
   "outputs": [],
   "source": [
    "import numpy as np"
   ]
  },
  {
   "cell_type": "markdown",
   "id": "56b6ec7c",
   "metadata": {},
   "source": [
    "# 2. 配列の作成"
   ]
  },
  {
   "cell_type": "markdown",
   "id": "f6cb1a67",
   "metadata": {},
   "source": [
    "## 2.1 1次元配列"
   ]
  },
  {
   "cell_type": "code",
   "execution_count": 3,
   "id": "e430738a",
   "metadata": {
    "ExecuteTime": {
     "end_time": "2023-05-07T04:21:31.331701Z",
     "start_time": "2023-05-07T04:21:31.306691Z"
    }
   },
   "outputs": [
    {
     "data": {
      "text/plain": [
       "array([1, 2, 3, 4, 5])"
      ]
     },
     "execution_count": 3,
     "metadata": {},
     "output_type": "execute_result"
    }
   ],
   "source": [
    "arr = np.array([1, 2, 3, 4, 5])\n",
    "arr"
   ]
  },
  {
   "cell_type": "markdown",
   "id": "f267b3f7",
   "metadata": {},
   "source": [
    "## 2.2 2次元配列"
   ]
  },
  {
   "cell_type": "code",
   "execution_count": 4,
   "id": "bdb764bb",
   "metadata": {
    "ExecuteTime": {
     "end_time": "2023-05-07T04:21:31.380494Z",
     "start_time": "2023-05-07T04:21:31.333709Z"
    }
   },
   "outputs": [
    {
     "data": {
      "text/plain": [
       "array([[1, 2, 3],\n",
       "       [4, 5, 6],\n",
       "       [7, 8, 9]])"
      ]
     },
     "execution_count": 4,
     "metadata": {},
     "output_type": "execute_result"
    }
   ],
   "source": [
    "arr = np.array([[1, 2, 3], [4, 5, 6], [7, 8, 9]])\n",
    "arr"
   ]
  },
  {
   "cell_type": "markdown",
   "id": "04c8abec",
   "metadata": {},
   "source": [
    "# 3. 配列の操作"
   ]
  },
  {
   "cell_type": "markdown",
   "id": "a4ac2414",
   "metadata": {},
   "source": [
    "## 3.1 配列の形状"
   ]
  },
  {
   "cell_type": "code",
   "execution_count": 5,
   "id": "24c3f7a3",
   "metadata": {
    "ExecuteTime": {
     "end_time": "2023-05-07T04:21:31.395466Z",
     "start_time": "2023-05-07T04:21:31.383495Z"
    }
   },
   "outputs": [
    {
     "data": {
      "text/plain": [
       "(2, 3)"
      ]
     },
     "execution_count": 5,
     "metadata": {},
     "output_type": "execute_result"
    }
   ],
   "source": [
    "arr = np.array([[1, 2, 3], [4, 5, 6]])\n",
    "arr.shape\n",
    "# -> (2, 3)"
   ]
  },
  {
   "cell_type": "markdown",
   "id": "c8a12775",
   "metadata": {},
   "source": [
    "## 3.2 配列のリシェイプ"
   ]
  },
  {
   "cell_type": "code",
   "execution_count": 6,
   "id": "e2311fa3",
   "metadata": {
    "ExecuteTime": {
     "end_time": "2023-05-07T04:21:31.420996Z",
     "start_time": "2023-05-07T04:21:31.398456Z"
    }
   },
   "outputs": [
    {
     "data": {
      "text/plain": [
       "array([[1, 2, 3],\n",
       "       [4, 5, 6]])"
      ]
     },
     "execution_count": 6,
     "metadata": {},
     "output_type": "execute_result"
    }
   ],
   "source": [
    "arr = np.array([1, 2, 3, 4, 5, 6])\n",
    "arr.reshape(2, 3)\n",
    "# -> array([[1, 2, 3],\n",
    "#            [4, 5, 6]])"
   ]
  },
  {
   "cell_type": "markdown",
   "id": "127c163c",
   "metadata": {},
   "source": [
    "# 4. 数学的演算"
   ]
  },
  {
   "cell_type": "markdown",
   "id": "3ebee81e",
   "metadata": {},
   "source": [
    "## 4.1 要素ごとの加算"
   ]
  },
  {
   "cell_type": "code",
   "execution_count": 7,
   "id": "9b0f8dca",
   "metadata": {
    "ExecuteTime": {
     "end_time": "2023-05-07T04:21:31.452783Z",
     "start_time": "2023-05-07T04:21:31.421996Z"
    }
   },
   "outputs": [
    {
     "data": {
      "text/plain": [
       "array([5, 7, 9])"
      ]
     },
     "execution_count": 7,
     "metadata": {},
     "output_type": "execute_result"
    }
   ],
   "source": [
    "a = np.array([1, 2, 3])\n",
    "b = np.array([4, 5, 6])\n",
    "a + b\n",
    "# -> array([5, 7, 9])"
   ]
  },
  {
   "cell_type": "markdown",
   "id": "0866c942",
   "metadata": {},
   "source": [
    "## 4.2 要素ごとの乗算"
   ]
  },
  {
   "cell_type": "code",
   "execution_count": 8,
   "id": "6717b53f",
   "metadata": {
    "ExecuteTime": {
     "end_time": "2023-05-07T04:21:31.468115Z",
     "start_time": "2023-05-07T04:21:31.452783Z"
    }
   },
   "outputs": [
    {
     "data": {
      "text/plain": [
       "array([ 4, 10, 18])"
      ]
     },
     "execution_count": 8,
     "metadata": {},
     "output_type": "execute_result"
    }
   ],
   "source": [
    "a = np.array([1, 2, 3])\n",
    "b = np.array([4, 5, 6])\n",
    "a * b\n",
    "# -> array([ 4, 10, 18])"
   ]
  },
  {
   "cell_type": "markdown",
   "id": "71f84214",
   "metadata": {},
   "source": [
    "# 5. 統計関数"
   ]
  },
  {
   "cell_type": "markdown",
   "id": "32884ecf",
   "metadata": {},
   "source": [
    "## 5.1 平均値"
   ]
  },
  {
   "cell_type": "code",
   "execution_count": 9,
   "id": "2ebd5e8f",
   "metadata": {
    "ExecuteTime": {
     "end_time": "2023-05-07T04:21:31.485637Z",
     "start_time": "2023-05-07T04:21:31.470110Z"
    }
   },
   "outputs": [
    {
     "data": {
      "text/plain": [
       "3.0"
      ]
     },
     "execution_count": 9,
     "metadata": {},
     "output_type": "execute_result"
    }
   ],
   "source": [
    "arr = np.array([1, 2, 3, 4, 5])\n",
    "np.mean(arr)\n",
    "# -> 3.0"
   ]
  },
  {
   "cell_type": "markdown",
   "id": "5c7065b0",
   "metadata": {},
   "source": [
    "## 5.2 分散"
   ]
  },
  {
   "cell_type": "code",
   "execution_count": 10,
   "id": "3a510010",
   "metadata": {
    "ExecuteTime": {
     "end_time": "2023-05-07T04:21:31.516628Z",
     "start_time": "2023-05-07T04:21:31.493635Z"
    }
   },
   "outputs": [
    {
     "data": {
      "text/plain": [
       "2.0"
      ]
     },
     "execution_count": 10,
     "metadata": {},
     "output_type": "execute_result"
    }
   ],
   "source": [
    "arr = np.array([1, 2, 3, 4, 5])\n",
    "np.var(arr)\n",
    "# -> 2.0"
   ]
  },
  {
   "cell_type": "markdown",
   "id": "5a34ce05",
   "metadata": {},
   "source": [
    "# 6. 線形代数"
   ]
  },
  {
   "cell_type": "markdown",
   "id": "8154c58a",
   "metadata": {},
   "source": [
    "## 6.1 行列の積"
   ]
  },
  {
   "cell_type": "code",
   "execution_count": 11,
   "id": "605c7dbb",
   "metadata": {
    "ExecuteTime": {
     "end_time": "2023-05-07T04:21:31.544335Z",
     "start_time": "2023-05-07T04:21:31.516628Z"
    }
   },
   "outputs": [
    {
     "data": {
      "text/plain": [
       "array([[19, 22],\n",
       "       [43, 50]])"
      ]
     },
     "execution_count": 11,
     "metadata": {},
     "output_type": "execute_result"
    }
   ],
   "source": [
    "a = np.array([[1, 2], [3, 4]])\n",
    "b = np.array([[5, 6], [7, 8]])\n",
    "np.dot(a, b)\n",
    "# -> array([[19, 22],\n",
    "#           [43, 50]])"
   ]
  },
  {
   "cell_type": "markdown",
   "id": "13862a64",
   "metadata": {},
   "source": [
    "## 6.2 逆行列"
   ]
  },
  {
   "cell_type": "code",
   "execution_count": 12,
   "id": "9365db0f",
   "metadata": {
    "ExecuteTime": {
     "end_time": "2023-05-07T04:21:31.569307Z",
     "start_time": "2023-05-07T04:21:31.545314Z"
    }
   },
   "outputs": [
    {
     "data": {
      "text/plain": [
       "array([[-2. ,  1. ],\n",
       "       [ 1.5, -0.5]])"
      ]
     },
     "execution_count": 12,
     "metadata": {},
     "output_type": "execute_result"
    }
   ],
   "source": [
    "a = np.array([[1, 2], [3, 4]])\n",
    "np.linalg.inv(a)\n",
    "# -> array([[-2. ,  1. ],\n",
    "#           [ 1.5, -0.5]])"
   ]
  },
  {
   "cell_type": "code",
   "execution_count": null,
   "id": "dff6d3fb",
   "metadata": {},
   "outputs": [],
   "source": []
  }
 ],
 "metadata": {
  "kernelspec": {
   "display_name": "Python 3 (ipykernel)",
   "language": "python",
   "name": "python3"
  },
  "language_info": {
   "codemirror_mode": {
    "name": "ipython",
    "version": 3
   },
   "file_extension": ".py",
   "mimetype": "text/x-python",
   "name": "python",
   "nbconvert_exporter": "python",
   "pygments_lexer": "ipython3",
   "version": "3.9.13"
  },
  "varInspector": {
   "cols": {
    "lenName": 16,
    "lenType": 16,
    "lenVar": 40
   },
   "kernels_config": {
    "python": {
     "delete_cmd_postfix": "",
     "delete_cmd_prefix": "del ",
     "library": "var_list.py",
     "varRefreshCmd": "print(var_dic_list())"
    },
    "r": {
     "delete_cmd_postfix": ") ",
     "delete_cmd_prefix": "rm(",
     "library": "var_list.r",
     "varRefreshCmd": "cat(var_dic_list()) "
    }
   },
   "types_to_exclude": [
    "module",
    "function",
    "builtin_function_or_method",
    "instance",
    "_Feature"
   ],
   "window_display": false
  }
 },
 "nbformat": 4,
 "nbformat_minor": 5
}
