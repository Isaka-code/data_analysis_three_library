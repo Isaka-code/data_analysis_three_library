{
 "cells": [
  {
   "cell_type": "markdown",
   "id": "036dd763",
   "metadata": {},
   "source": [
    "# 1. インストールとインポート"
   ]
  },
  {
   "cell_type": "code",
   "execution_count": 1,
   "id": "97a59947",
   "metadata": {
    "ExecuteTime": {
     "end_time": "2023-05-07T04:30:55.661426Z",
     "start_time": "2023-05-07T04:30:55.648429Z"
    }
   },
   "outputs": [],
   "source": [
    "!pip install pandas"
   ]
  },
  {
   "cell_type": "code",
   "execution_count": 2,
   "id": "0a77de47",
   "metadata": {
    "ExecuteTime": {
     "end_time": "2023-05-07T04:30:56.450215Z",
     "start_time": "2023-05-07T04:30:55.667429Z"
    }
   },
   "outputs": [],
   "source": [
    "import pandas as pd\n",
    "import numpy as np"
   ]
  },
  {
   "cell_type": "markdown",
   "id": "45ec2966",
   "metadata": {},
   "source": [
    "## 2. Series"
   ]
  },
  {
   "cell_type": "code",
   "execution_count": 3,
   "id": "763dbe09",
   "metadata": {
    "ExecuteTime": {
     "end_time": "2023-05-07T04:30:56.473634Z",
     "start_time": "2023-05-07T04:30:56.453916Z"
    }
   },
   "outputs": [
    {
     "name": "stdout",
     "output_type": "stream",
     "text": [
      "0    1\n",
      "1    2\n",
      "2    3\n",
      "3    4\n",
      "4    5\n",
      "dtype: int64\n"
     ]
    }
   ],
   "source": [
    "data = [1, 2, 3, 4, 5]\n",
    "s = pd.Series(data)\n",
    "print(s)"
   ]
  },
  {
   "cell_type": "markdown",
   "id": "f2d6346e",
   "metadata": {},
   "source": [
    "## 3. DataFrame"
   ]
  },
  {
   "cell_type": "code",
   "execution_count": 4,
   "id": "d47d19de",
   "metadata": {
    "ExecuteTime": {
     "end_time": "2023-05-07T04:30:56.505201Z",
     "start_time": "2023-05-07T04:30:56.473634Z"
    }
   },
   "outputs": [
    {
     "name": "stdout",
     "output_type": "stream",
     "text": [
      "   A  B  C\n",
      "0  1  4  7\n",
      "1  2  5  8\n",
      "2  3  6  9\n"
     ]
    }
   ],
   "source": [
    "data = {'A': [1, 2, 3], 'B': [4, 5, 6], 'C': [7, 8, 9]}\n",
    "df = pd.DataFrame(data)\n",
    "print(df)"
   ]
  },
  {
   "cell_type": "markdown",
   "id": "18f29888",
   "metadata": {},
   "source": [
    "# 4. CSVファイルの読み込みと書き込み"
   ]
  },
  {
   "cell_type": "markdown",
   "id": "9c98f5d7",
   "metadata": {},
   "source": [
    "## 4.1 CSVファイルの読み込み"
   ]
  },
  {
   "cell_type": "code",
   "execution_count": 5,
   "id": "afa4d233",
   "metadata": {
    "ExecuteTime": {
     "end_time": "2023-05-07T04:30:56.531039Z",
     "start_time": "2023-05-07T04:30:56.507295Z"
    }
   },
   "outputs": [
    {
     "name": "stdout",
     "output_type": "stream",
     "text": [
      "   A  B  C\n",
      "0  1  4  7\n",
      "1  2  5  8\n",
      "2  3  6  9\n"
     ]
    }
   ],
   "source": [
    "df = pd.read_csv('sample.csv')\n",
    "print(df)"
   ]
  },
  {
   "cell_type": "markdown",
   "id": "28f71e93",
   "metadata": {},
   "source": [
    "## 4.2 CSVファイルへの書き込み"
   ]
  },
  {
   "cell_type": "code",
   "execution_count": 6,
   "id": "809d316e",
   "metadata": {
    "ExecuteTime": {
     "end_time": "2023-05-07T04:30:56.562476Z",
     "start_time": "2023-05-07T04:30:56.531039Z"
    }
   },
   "outputs": [],
   "source": [
    "df.to_csv('output.csv', index=False)"
   ]
  },
  {
   "cell_type": "markdown",
   "id": "45faae13",
   "metadata": {},
   "source": [
    "# 5. データの選択と操作"
   ]
  },
  {
   "cell_type": "markdown",
   "id": "5119e058",
   "metadata": {},
   "source": [
    "## 5.1 カラムの選択"
   ]
  },
  {
   "cell_type": "code",
   "execution_count": 7,
   "id": "66756908",
   "metadata": {
    "ExecuteTime": {
     "end_time": "2023-05-07T04:30:56.579103Z",
     "start_time": "2023-05-07T04:30:56.563494Z"
    }
   },
   "outputs": [
    {
     "name": "stdout",
     "output_type": "stream",
     "text": [
      "0    1\n",
      "1    2\n",
      "2    3\n",
      "Name: A, dtype: int64\n"
     ]
    }
   ],
   "source": [
    "col_A = df['A']\n",
    "print(col_A)"
   ]
  },
  {
   "cell_type": "markdown",
   "id": "ac09d8fb",
   "metadata": {},
   "source": [
    "## 5.2 行の選択"
   ]
  },
  {
   "cell_type": "code",
   "execution_count": 8,
   "id": "ad4f9e1c",
   "metadata": {
    "ExecuteTime": {
     "end_time": "2023-05-07T04:30:56.602755Z",
     "start_time": "2023-05-07T04:30:56.583127Z"
    }
   },
   "outputs": [
    {
     "name": "stdout",
     "output_type": "stream",
     "text": [
      "A    2\n",
      "B    5\n",
      "C    8\n",
      "Name: 1, dtype: int64\n"
     ]
    }
   ],
   "source": [
    "row_1 = df.loc[1]\n",
    "print(row_1)"
   ]
  },
  {
   "cell_type": "markdown",
   "id": "d371b33e",
   "metadata": {},
   "source": [
    "## 5.3 条件による選択"
   ]
  },
  {
   "cell_type": "code",
   "execution_count": 9,
   "id": "fa49f16a",
   "metadata": {
    "ExecuteTime": {
     "end_time": "2023-05-07T04:30:56.624427Z",
     "start_time": "2023-05-07T04:30:56.605758Z"
    }
   },
   "outputs": [
    {
     "name": "stdout",
     "output_type": "stream",
     "text": [
      "   A  B  C\n",
      "1  2  5  8\n",
      "2  3  6  9\n"
     ]
    }
   ],
   "source": [
    "filtered_df = df[df['A'] > 1]\n",
    "print(filtered_df)"
   ]
  },
  {
   "cell_type": "markdown",
   "id": "be5a574a",
   "metadata": {},
   "source": [
    "# 6. データの統計情報"
   ]
  },
  {
   "cell_type": "markdown",
   "id": "34544ed2",
   "metadata": {},
   "source": [
    "## 6.1 基本的な統計情報"
   ]
  },
  {
   "cell_type": "code",
   "execution_count": 10,
   "id": "f80aec72",
   "metadata": {
    "ExecuteTime": {
     "end_time": "2023-05-07T04:30:56.663084Z",
     "start_time": "2023-05-07T04:30:56.629423Z"
    }
   },
   "outputs": [
    {
     "name": "stdout",
     "output_type": "stream",
     "text": [
      "         A    B    C\n",
      "count  3.0  3.0  3.0\n",
      "mean   2.0  5.0  8.0\n",
      "std    1.0  1.0  1.0\n",
      "min    1.0  4.0  7.0\n",
      "25%    1.5  4.5  7.5\n",
      "50%    2.0  5.0  8.0\n",
      "75%    2.5  5.5  8.5\n",
      "max    3.0  6.0  9.0\n"
     ]
    }
   ],
   "source": [
    "stats = df.describe()\n",
    "print(stats)"
   ]
  },
  {
   "cell_type": "markdown",
   "id": "6fcf7e16",
   "metadata": {},
   "source": [
    "## 6.2 平均値"
   ]
  },
  {
   "cell_type": "code",
   "execution_count": 11,
   "id": "7b9bf613",
   "metadata": {
    "ExecuteTime": {
     "end_time": "2023-05-07T04:30:56.694961Z",
     "start_time": "2023-05-07T04:30:56.663084Z"
    }
   },
   "outputs": [
    {
     "name": "stdout",
     "output_type": "stream",
     "text": [
      "A    2.0\n",
      "B    5.0\n",
      "C    8.0\n",
      "dtype: float64\n"
     ]
    }
   ],
   "source": [
    "mean = df.mean()\n",
    "print(mean)"
   ]
  },
  {
   "cell_type": "markdown",
   "id": "3e457e24",
   "metadata": {},
   "source": [
    "## 6.3 中央値"
   ]
  },
  {
   "cell_type": "code",
   "execution_count": 12,
   "id": "1ddf6e5b",
   "metadata": {
    "ExecuteTime": {
     "end_time": "2023-05-07T04:30:56.712415Z",
     "start_time": "2023-05-07T04:30:56.696902Z"
    }
   },
   "outputs": [
    {
     "name": "stdout",
     "output_type": "stream",
     "text": [
      "A    2.0\n",
      "B    5.0\n",
      "C    8.0\n",
      "dtype: float64\n"
     ]
    }
   ],
   "source": [
    "median = df.median()\n",
    "print(median)"
   ]
  },
  {
   "cell_type": "markdown",
   "id": "691b8fd9",
   "metadata": {},
   "source": [
    "## 6.4 最大値・最小値"
   ]
  },
  {
   "cell_type": "code",
   "execution_count": 13,
   "id": "afde1202",
   "metadata": {
    "ExecuteTime": {
     "end_time": "2023-05-07T04:30:56.744812Z",
     "start_time": "2023-05-07T04:30:56.713403Z"
    }
   },
   "outputs": [
    {
     "name": "stdout",
     "output_type": "stream",
     "text": [
      "A    3\n",
      "B    6\n",
      "C    9\n",
      "dtype: int64\n",
      "A    1\n",
      "B    4\n",
      "C    7\n",
      "dtype: int64\n"
     ]
    }
   ],
   "source": [
    "max_value = df.max()\n",
    "min_value = df.min()\n",
    "print(max_value)\n",
    "print(min_value)"
   ]
  },
  {
   "cell_type": "markdown",
   "id": "84509721",
   "metadata": {},
   "source": [
    "# 7. データの欠損値処理"
   ]
  },
  {
   "cell_type": "code",
   "execution_count": 14,
   "id": "331b01a1",
   "metadata": {
    "ExecuteTime": {
     "end_time": "2023-05-07T04:30:56.761713Z",
     "start_time": "2023-05-07T04:30:56.746696Z"
    }
   },
   "outputs": [
    {
     "name": "stdout",
     "output_type": "stream",
     "text": [
      "     A    B  C\n",
      "0  1.0  NaN  7\n",
      "1  NaN  5.0  8\n",
      "2  3.0  6.0  9\n"
     ]
    }
   ],
   "source": [
    "data = {'A': [1, np.nan, 3], 'B': [np.nan, 5, 6], 'C': [7, 8, 9]}\n",
    "df = pd.DataFrame(data)\n",
    "print(df)"
   ]
  },
  {
   "cell_type": "markdown",
   "id": "de2007bb",
   "metadata": {},
   "source": [
    "## 7.1 欠損値の検出"
   ]
  },
  {
   "cell_type": "code",
   "execution_count": 15,
   "id": "b9e91875",
   "metadata": {
    "ExecuteTime": {
     "end_time": "2023-05-07T04:30:56.811485Z",
     "start_time": "2023-05-07T04:30:56.763471Z"
    }
   },
   "outputs": [
    {
     "name": "stdout",
     "output_type": "stream",
     "text": [
      "       A      B      C\n",
      "0  False   True  False\n",
      "1   True  False  False\n",
      "2  False  False  False\n"
     ]
    }
   ],
   "source": [
    "missing_values = df.isnull()\n",
    "print(missing_values)"
   ]
  },
  {
   "cell_type": "markdown",
   "id": "b2418ea6",
   "metadata": {},
   "source": [
    "## 7.2 欠損値の削除"
   ]
  },
  {
   "cell_type": "code",
   "execution_count": 16,
   "id": "4819300c",
   "metadata": {
    "ExecuteTime": {
     "end_time": "2023-05-07T04:30:56.845638Z",
     "start_time": "2023-05-07T04:30:56.816320Z"
    }
   },
   "outputs": [
    {
     "name": "stdout",
     "output_type": "stream",
     "text": [
      "     A    B  C\n",
      "2  3.0  6.0  9\n"
     ]
    }
   ],
   "source": [
    "df_dropna = df.dropna()\n",
    "print(df_dropna)"
   ]
  },
  {
   "cell_type": "markdown",
   "id": "5dbecb0d",
   "metadata": {},
   "source": [
    "## 7.3 欠損値の補完"
   ]
  },
  {
   "cell_type": "code",
   "execution_count": 17,
   "id": "1341d1fd",
   "metadata": {
    "ExecuteTime": {
     "end_time": "2023-05-07T04:30:56.862370Z",
     "start_time": "2023-05-07T04:30:56.846656Z"
    }
   },
   "outputs": [
    {
     "name": "stdout",
     "output_type": "stream",
     "text": [
      "     A    B  C\n",
      "0  1.0  0.0  7\n",
      "1  0.0  5.0  8\n",
      "2  3.0  6.0  9\n"
     ]
    }
   ],
   "source": [
    "df_filled = df.fillna(value=0)\n",
    "print(df_filled)"
   ]
  },
  {
   "cell_type": "markdown",
   "id": "b2cb7410",
   "metadata": {},
   "source": [
    "# 8. データの結合と整形"
   ]
  },
  {
   "cell_type": "markdown",
   "id": "250659e8",
   "metadata": {},
   "source": [
    "## 8.1 データフレームの結合（横方向）"
   ]
  },
  {
   "cell_type": "code",
   "execution_count": 18,
   "id": "1dbdd0aa",
   "metadata": {
    "ExecuteTime": {
     "end_time": "2023-05-07T04:30:56.898077Z",
     "start_time": "2023-05-07T04:30:56.863309Z"
    }
   },
   "outputs": [
    {
     "name": "stdout",
     "output_type": "stream",
     "text": [
      "   A  B  C   D\n",
      "0  1  4  7  10\n",
      "1  2  5  8  11\n",
      "2  3  6  9  12\n"
     ]
    }
   ],
   "source": [
    "df1 = pd.DataFrame({'A': [1, 2, 3], 'B': [4, 5, 6]})\n",
    "df2 = pd.DataFrame({'C': [7, 8, 9], 'D': [10, 11, 12]})\n",
    "df_concat = pd.concat([df1, df2], axis=1)\n",
    "print(df_concat)"
   ]
  },
  {
   "cell_type": "markdown",
   "id": "5030ee79",
   "metadata": {},
   "source": [
    "## 8.2 データフレームの結合（縦方向）"
   ]
  },
  {
   "cell_type": "code",
   "execution_count": 19,
   "id": "ce1cd9c2",
   "metadata": {
    "ExecuteTime": {
     "end_time": "2023-05-07T04:30:56.928915Z",
     "start_time": "2023-05-07T04:30:56.898077Z"
    }
   },
   "outputs": [
    {
     "name": "stdout",
     "output_type": "stream",
     "text": [
      "   A   B\n",
      "0  1   4\n",
      "1  2   5\n",
      "2  3   6\n",
      "0  7  10\n",
      "1  8  11\n",
      "2  9  12\n"
     ]
    }
   ],
   "source": [
    "df1 = pd.DataFrame({'A': [1, 2, 3], 'B': [4, 5, 6]})\n",
    "df2 = pd.DataFrame({'A': [7, 8, 9], 'B': [10, 11, 12]})\n",
    "df_concat = pd.concat([df1, df2], axis=0)\n",
    "print(df_concat)"
   ]
  },
  {
   "cell_type": "markdown",
   "id": "5a8e873e",
   "metadata": {},
   "source": [
    "## 8.3 データフレームのマージ"
   ]
  },
  {
   "cell_type": "code",
   "execution_count": 20,
   "id": "a69058b5",
   "metadata": {
    "ExecuteTime": {
     "end_time": "2023-05-07T04:30:56.962204Z",
     "start_time": "2023-05-07T04:30:56.932717Z"
    }
   },
   "outputs": [
    {
     "name": "stdout",
     "output_type": "stream",
     "text": [
      "  key   A   B   C   D\n",
      "0  K0  A0  B0  C0  D0\n",
      "1  K1  A1  B1  C1  D1\n",
      "2  K2  A2  B2  C2  D2\n",
      "3  K3  A3  B3  C3  D3\n"
     ]
    }
   ],
   "source": [
    "left = pd.DataFrame({'key': ['K0', 'K1', 'K2', 'K3'],\n",
    "                     'A': ['A0', 'A1', 'A2', 'A3'],\n",
    "                     'B': ['B0', 'B1', 'B2', 'B3']})\n",
    "\n",
    "right = pd.DataFrame({'key': ['K0', 'K1', 'K2', 'K3'],\n",
    "                      'C': ['C0', 'C1', 'C2', 'C3'],\n",
    "                      'D': ['D0', 'D1', 'D2', 'D3']})\n",
    "\n",
    "merged = pd.merge(left, right, on='key')\n",
    "print(merged)"
   ]
  },
  {
   "cell_type": "markdown",
   "id": "a4960c33",
   "metadata": {},
   "source": [
    "## 8.4 ピボットテーブルの作成"
   ]
  },
  {
   "cell_type": "code",
   "execution_count": 21,
   "id": "84072a91",
   "metadata": {
    "ExecuteTime": {
     "end_time": "2023-05-07T04:30:57.012269Z",
     "start_time": "2023-05-07T04:30:56.965223Z"
    }
   },
   "outputs": [
    {
     "name": "stdout",
     "output_type": "stream",
     "text": [
      "C          x    y\n",
      "A   B            \n",
      "bar one  5.0  6.0\n",
      "    two  NaN  4.0\n",
      "foo one  1.0  2.0\n",
      "    two  3.0  NaN\n"
     ]
    }
   ],
   "source": [
    "data = {'A': ['foo', 'foo', 'foo', 'bar', 'bar', 'bar'],\n",
    "        'B': ['one', 'one', 'two', 'two', 'one', 'one'],\n",
    "        'C': ['x', 'y', 'x', 'y', 'x', 'y'],\n",
    "        'D': [1, 2, 3, 4, 5, 6]}\n",
    "\n",
    "df = pd.DataFrame(data)\n",
    "\n",
    "pivot_table = df.pivot_table(values='D', index=['A', 'B'], columns=['C'])\n",
    "print(pivot_table)"
   ]
  },
  {
   "cell_type": "code",
   "execution_count": null,
   "id": "688cffec",
   "metadata": {},
   "outputs": [],
   "source": []
  }
 ],
 "metadata": {
  "kernelspec": {
   "display_name": "Python 3 (ipykernel)",
   "language": "python",
   "name": "python3"
  },
  "language_info": {
   "codemirror_mode": {
    "name": "ipython",
    "version": 3
   },
   "file_extension": ".py",
   "mimetype": "text/x-python",
   "name": "python",
   "nbconvert_exporter": "python",
   "pygments_lexer": "ipython3",
   "version": "3.9.13"
  },
  "varInspector": {
   "cols": {
    "lenName": 16,
    "lenType": 16,
    "lenVar": 40
   },
   "kernels_config": {
    "python": {
     "delete_cmd_postfix": "",
     "delete_cmd_prefix": "del ",
     "library": "var_list.py",
     "varRefreshCmd": "print(var_dic_list())"
    },
    "r": {
     "delete_cmd_postfix": ") ",
     "delete_cmd_prefix": "rm(",
     "library": "var_list.r",
     "varRefreshCmd": "cat(var_dic_list()) "
    }
   },
   "types_to_exclude": [
    "module",
    "function",
    "builtin_function_or_method",
    "instance",
    "_Feature"
   ],
   "window_display": false
  }
 },
 "nbformat": 4,
 "nbformat_minor": 5
}
